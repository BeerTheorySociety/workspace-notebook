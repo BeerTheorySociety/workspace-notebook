{
 "cells": [
  {
   "cell_type": "code",
   "execution_count": 3,
   "metadata": {
    "collapsed": false
   },
   "outputs": [],
   "source": [
    "%matplotlib inline\n",
    "import numpy as np\n",
    "import pandas as pd"
   ]
  },
  {
   "cell_type": "code",
   "execution_count": 4,
   "metadata": {
    "collapsed": true
   },
   "outputs": [],
   "source": [
    "import names\n",
    "import random\n",
    "\n",
    "def generate_students(n_students):\n",
    "    \"\"\"\"\"\"\n",
    "    student_list = []\n",
    "    for n in range(n_students):\n",
    "        student_list.append(names.get_full_name())\n",
    "    return student_list\n",
    "\n",
    "def generate_required_schedules(required, students):\n",
    "    \"\"\"Map students to their required courses\"\"\"\n",
    "    student_set = {}\n",
    "    for s in students:\n",
    "        student_set[s] = required[:]\n",
    "    return student_set\n",
    "\n",
    "def add_electives(electives, course_size, student_set):\n",
    "    \"\"\" Distribute electives\"\"\"\n",
    "    # Create a master list of accessible elective course positions\n",
    "    class_list = []\n",
    "    for e in electives:\n",
    "        class_list += [e for i in range(course_size)]\n",
    "    \n",
    "    random.shuffle(class_list)\n",
    "\n",
    "    for i, student_info in enumerate(student_set.items()):\n",
    "        student_info[1].append(class_list[i])\n",
    "        \n",
    "    return student_set    "
   ]
  },
  {
   "cell_type": "code",
   "execution_count": 44,
   "metadata": {
    "collapsed": false
   },
   "outputs": [],
   "source": [
    "class_size = 35\n",
    "n_periods = 5\n",
    "n_students = 100\n",
    "\n",
    "subjects = [\"Math\", \"English\", \"History\", \"PE\"]\n",
    "electives = [\"Choir\", \"Band\", \"Woodshop\"]\n",
    "students = generate_students(n_students)\n",
    "student_set = generate_required_schedules(subjects, students)\n",
    "student_set = add_electives(electives, class_size, student_set)"
   ]
  },
  {
   "cell_type": "code",
   "execution_count": 45,
   "metadata": {
    "collapsed": false
   },
   "outputs": [
    {
     "data": {
      "text/plain": [
       "{'Alexander Helmick': ['Math', 'English', 'History', 'PE', 'Band'],\n",
       " 'Andrea Hull': ['Math', 'English', 'History', 'PE', 'Choir'],\n",
       " 'April Hillyer': ['Math', 'English', 'History', 'PE', 'Band'],\n",
       " 'April Mccall': ['Math', 'English', 'History', 'PE', 'Woodshop'],\n",
       " 'Augusta Braun': ['Math', 'English', 'History', 'PE', 'Choir'],\n",
       " 'Betty Morriss': ['Math', 'English', 'History', 'PE', 'Choir'],\n",
       " 'Blanche Scoby': ['Math', 'English', 'History', 'PE', 'Band'],\n",
       " 'Chad Jensen': ['Math', 'English', 'History', 'PE', 'Choir'],\n",
       " 'Charles Adkins': ['Math', 'English', 'History', 'PE', 'Band'],\n",
       " 'Charles Williams': ['Math', 'English', 'History', 'PE', 'Choir'],\n",
       " 'Cheryl Cunningham': ['Math', 'English', 'History', 'PE', 'Woodshop'],\n",
       " 'Chris Lotton': ['Math', 'English', 'History', 'PE', 'Band'],\n",
       " 'Clyde Koch': ['Math', 'English', 'History', 'PE', 'Band'],\n",
       " 'Darwin Mcmillin': ['Math', 'English', 'History', 'PE', 'Choir'],\n",
       " 'David Brewer': ['Math', 'English', 'History', 'PE', 'Woodshop'],\n",
       " 'Diane Rust': ['Math', 'English', 'History', 'PE', 'Band'],\n",
       " 'Dianna Figaro': ['Math', 'English', 'History', 'PE', 'Choir'],\n",
       " 'Donnie Lytell': ['Math', 'English', 'History', 'PE', 'Choir'],\n",
       " 'Dorothy Fried': ['Math', 'English', 'History', 'PE', 'Band'],\n",
       " 'Edward Evans': ['Math', 'English', 'History', 'PE', 'Band'],\n",
       " 'Edwardo Ramsour': ['Math', 'English', 'History', 'PE', 'Woodshop'],\n",
       " 'Ella Lindsay': ['Math', 'English', 'History', 'PE', 'Choir'],\n",
       " 'Eric Shaffer': ['Math', 'English', 'History', 'PE', 'Band'],\n",
       " 'Eric Valdez': ['Math', 'English', 'History', 'PE', 'Woodshop'],\n",
       " 'Eric Yeiser': ['Math', 'English', 'History', 'PE', 'Woodshop'],\n",
       " 'Ernie Blair': ['Math', 'English', 'History', 'PE', 'Choir'],\n",
       " 'Eusebio Miller': ['Math', 'English', 'History', 'PE', 'Choir'],\n",
       " 'Evette Grullon': ['Math', 'English', 'History', 'PE', 'Woodshop'],\n",
       " 'Gary Pressley': ['Math', 'English', 'History', 'PE', 'Band'],\n",
       " 'Gerardo Camden': ['Math', 'English', 'History', 'PE', 'Choir'],\n",
       " 'Gregory Embree': ['Math', 'English', 'History', 'PE', 'Woodshop'],\n",
       " 'Hannah Mccay': ['Math', 'English', 'History', 'PE', 'Band'],\n",
       " 'Helen Kaufman': ['Math', 'English', 'History', 'PE', 'Woodshop'],\n",
       " 'Hellen Lucas': ['Math', 'English', 'History', 'PE', 'Band'],\n",
       " 'Hilda Echols': ['Math', 'English', 'History', 'PE', 'Choir'],\n",
       " 'Hillary Dorman': ['Math', 'English', 'History', 'PE', 'Band'],\n",
       " 'Janet Anderson': ['Math', 'English', 'History', 'PE', 'Choir'],\n",
       " 'Janice Martin': ['Math', 'English', 'History', 'PE', 'Band'],\n",
       " 'Janie Cooper': ['Math', 'English', 'History', 'PE', 'Choir'],\n",
       " 'Jason Breedlove': ['Math', 'English', 'History', 'PE', 'Woodshop'],\n",
       " 'Jerry Gales': ['Math', 'English', 'History', 'PE', 'Choir'],\n",
       " 'Jessie Gehling': ['Math', 'English', 'History', 'PE', 'Woodshop'],\n",
       " 'Jimmie Mallett': ['Math', 'English', 'History', 'PE', 'Choir'],\n",
       " 'John Correia': ['Math', 'English', 'History', 'PE', 'Choir'],\n",
       " 'John Rowell': ['Math', 'English', 'History', 'PE', 'Choir'],\n",
       " 'John Thompson': ['Math', 'English', 'History', 'PE', 'Woodshop'],\n",
       " 'Joseph Murray': ['Math', 'English', 'History', 'PE', 'Choir'],\n",
       " 'Joseph Siple': ['Math', 'English', 'History', 'PE', 'Choir'],\n",
       " 'Karen Ferree': ['Math', 'English', 'History', 'PE', 'Choir'],\n",
       " 'Katherine Kucera': ['Math', 'English', 'History', 'PE', 'Choir'],\n",
       " 'Katie Angelo': ['Math', 'English', 'History', 'PE', 'Band'],\n",
       " 'Kendal Petela': ['Math', 'English', 'History', 'PE', 'Woodshop'],\n",
       " 'Kieth Carter': ['Math', 'English', 'History', 'PE', 'Band'],\n",
       " 'Lance Mcfall': ['Math', 'English', 'History', 'PE', 'Band'],\n",
       " 'Larry Shelton': ['Math', 'English', 'History', 'PE', 'Woodshop'],\n",
       " 'Leanne Madruga': ['Math', 'English', 'History', 'PE', 'Band'],\n",
       " 'Linda Payson': ['Math', 'English', 'History', 'PE', 'Woodshop'],\n",
       " 'Lindsay Gilliam': ['Math', 'English', 'History', 'PE', 'Band'],\n",
       " 'Linwood Mcquinn': ['Math', 'English', 'History', 'PE', 'Woodshop'],\n",
       " 'Lisa James': ['Math', 'English', 'History', 'PE', 'Band'],\n",
       " 'Lisa Willis': ['Math', 'English', 'History', 'PE', 'Band'],\n",
       " 'Lois Lilly': ['Math', 'English', 'History', 'PE', 'Choir'],\n",
       " 'Lorena Diaz': ['Math', 'English', 'History', 'PE', 'Band'],\n",
       " 'Luis Fuller': ['Math', 'English', 'History', 'PE', 'Band'],\n",
       " 'Lynne Collins': ['Math', 'English', 'History', 'PE', 'Band'],\n",
       " 'Marion Fernandes': ['Math', 'English', 'History', 'PE', 'Woodshop'],\n",
       " 'Marsha Darden': ['Math', 'English', 'History', 'PE', 'Woodshop'],\n",
       " 'Marsha Goodness': ['Math', 'English', 'History', 'PE', 'Choir'],\n",
       " 'Marsha Gray': ['Math', 'English', 'History', 'PE', 'Woodshop'],\n",
       " 'Mary Fudge': ['Math', 'English', 'History', 'PE', 'Woodshop'],\n",
       " 'Melissa Fahie': ['Math', 'English', 'History', 'PE', 'Band'],\n",
       " 'Michael Walters': ['Math', 'English', 'History', 'PE', 'Choir'],\n",
       " 'Nathan Taylor': ['Math', 'English', 'History', 'PE', 'Woodshop'],\n",
       " 'Norine Vasquez': ['Math', 'English', 'History', 'PE', 'Band'],\n",
       " 'Patricia Hargrave': ['Math', 'English', 'History', 'PE', 'Choir'],\n",
       " 'Phillip Garofalo': ['Math', 'English', 'History', 'PE', 'Choir'],\n",
       " 'Raven Orr': ['Math', 'English', 'History', 'PE', 'Woodshop'],\n",
       " 'Raymond Coley': ['Math', 'English', 'History', 'PE', 'Choir'],\n",
       " 'Richard Taylor': ['Math', 'English', 'History', 'PE', 'Woodshop'],\n",
       " 'Richelle Fraser': ['Math', 'English', 'History', 'PE', 'Woodshop'],\n",
       " 'Robert Carlile': ['Math', 'English', 'History', 'PE', 'Woodshop'],\n",
       " 'Robert Scott': ['Math', 'English', 'History', 'PE', 'Band'],\n",
       " 'Robin Ainslie': ['Math', 'English', 'History', 'PE', 'Band'],\n",
       " 'Robin Ibanez': ['Math', 'English', 'History', 'PE', 'Band'],\n",
       " 'Ronald Campbell': ['Math', 'English', 'History', 'PE', 'Woodshop'],\n",
       " 'Rubin Moore': ['Math', 'English', 'History', 'PE', 'Woodshop'],\n",
       " 'Sallie Thomason': ['Math', 'English', 'History', 'PE', 'Choir'],\n",
       " 'Sarah Toddy': ['Math', 'English', 'History', 'PE', 'Choir'],\n",
       " 'Simona Ruble': ['Math', 'English', 'History', 'PE', 'Band'],\n",
       " 'Stephanie Rossi': ['Math', 'English', 'History', 'PE', 'Woodshop'],\n",
       " 'Susan Yoder': ['Math', 'English', 'History', 'PE', 'Woodshop'],\n",
       " 'Timothy Williams': ['Math', 'English', 'History', 'PE', 'Band'],\n",
       " 'Tony Cressman': ['Math', 'English', 'History', 'PE', 'Woodshop'],\n",
       " 'Veronica Gilman': ['Math', 'English', 'History', 'PE', 'Choir'],\n",
       " 'Walter Bucher': ['Math', 'English', 'History', 'PE', 'Woodshop'],\n",
       " 'William Beier': ['Math', 'English', 'History', 'PE', 'Choir'],\n",
       " 'William Joseph': ['Math', 'English', 'History', 'PE', 'Band'],\n",
       " 'William Pinilla': ['Math', 'English', 'History', 'PE', 'Woodshop'],\n",
       " 'Willie Palmer': ['Math', 'English', 'History', 'PE', 'Choir'],\n",
       " 'Yukiko Sabir': ['Math', 'English', 'History', 'PE', 'Woodshop']}"
      ]
     },
     "execution_count": 45,
     "metadata": {},
     "output_type": "execute_result"
    }
   ],
   "source": [
    "student_set"
   ]
  },
  {
   "cell_type": "code",
   "execution_count": 17,
   "metadata": {
    "collapsed": true
   },
   "outputs": [],
   "source": []
  },
  {
   "cell_type": "code",
   "execution_count": 31,
   "metadata": {
    "collapsed": false
   },
   "outputs": [
    {
     "data": {
      "text/plain": [
       "array([2, 1])"
      ]
     },
     "execution_count": 31,
     "metadata": {},
     "output_type": "execute_result"
    }
   ],
   "source": []
  },
  {
   "cell_type": "code",
   "execution_count": 46,
   "metadata": {
    "collapsed": false
   },
   "outputs": [],
   "source": [
    "periods = dict([(i, []) for i in range(1, n_periods+1)])\n",
    "\n",
    "n_elec = len(electives)\n",
    "elective_periods = np.random.choice(range(1, 6),replace=False, size=n_elec)\n",
    "\n",
    "conflicts = {\"Woodshop\": \"Math\", \"Choir\": \"English\", \"Band\": \"History\"}\n",
    "\n",
    "# Assign elective periods\n",
    "for i, period in enumerate(elective_periods):\n",
    "    periods[period].append(electives[i])\n",
    "\n",
    "for i, period_list in periods.items():\n",
    "    options = subjects[:]\n",
    "    if len(period_list) > 0:\n",
    "        options.remove(conflicts[period_list[0]])\n",
    "    period_list += options"
   ]
  },
  {
   "cell_type": "code",
   "execution_count": 47,
   "metadata": {
    "collapsed": false
   },
   "outputs": [
    {
     "data": {
      "text/plain": [
       "{1: ['Band', 'Math', 'English', 'PE'],\n",
       " 2: ['Woodshop', 'English', 'History', 'PE'],\n",
       " 3: ['Choir', 'Math', 'History', 'PE'],\n",
       " 4: ['Math', 'English', 'History', 'PE'],\n",
       " 5: ['Math', 'English', 'History', 'PE']}"
      ]
     },
     "execution_count": 47,
     "metadata": {},
     "output_type": "execute_result"
    }
   ],
   "source": [
    "periods"
   ]
  },
  {
   "cell_type": "code",
   "execution_count": null,
   "metadata": {
    "collapsed": true
   },
   "outputs": [],
   "source": []
  }
 ],
 "metadata": {
  "kernelspec": {
   "display_name": "Python 3 (py3)",
   "language": "python",
   "name": "py3"
  },
  "language_info": {
   "codemirror_mode": {
    "name": "ipython",
    "version": 3
   },
   "file_extension": ".py",
   "mimetype": "text/x-python",
   "name": "python",
   "nbconvert_exporter": "python",
   "pygments_lexer": "ipython3",
   "version": "3.5.0"
  }
 },
 "nbformat": 4,
 "nbformat_minor": 1
}
