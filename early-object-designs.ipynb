{
 "cells": [
  {
   "cell_type": "code",
   "execution_count": 1,
   "metadata": {
    "collapsed": false
   },
   "outputs": [],
   "source": [
    "%matplotlib inline\n",
    "import numpy as np\n",
    "import pandas as pd"
   ]
  },
  {
   "cell_type": "code",
   "execution_count": 8,
   "metadata": {
    "collapsed": false
   },
   "outputs": [],
   "source": [
    "class Student(object):\n",
    "    def __init__(self, name, required_courses):\n",
    "        self.name = name\n",
    "        self.required_courses = required_courses\n",
    "        self.courses = []\n",
    "    \n",
    "    def add(self, course):\n",
    "        self.courses.append(course)\n",
    "    \n",
    "    def done(self):\n",
    "        cc = self.required_courses\n",
    "        for c in courses:\n",
    "            cc"
   ]
  },
  {
   "cell_type": "code",
   "execution_count": 9,
   "metadata": {
    "collapsed": true
   },
   "outputs": [],
   "source": [
    "class Teacher(object):\n",
    "    def __init__(self):\n",
    "        pass"
   ]
  },
  {
   "cell_type": "code",
   "execution_count": 10,
   "metadata": {
    "collapsed": true
   },
   "outputs": [],
   "source": [
    "class Course(object):\n",
    "    def __init__(self, name, course_type):\n",
    "        self.name = name\n",
    "        self.type = course_type"
   ]
  },
  {
   "cell_type": "code",
   "execution_count": 11,
   "metadata": {
    "collapsed": false
   },
   "outputs": [],
   "source": [
    "class Period(object):\n",
    "    def __init__(self, *courses):\n",
    "        self.courses = {}\n",
    "        for c in courses:\n",
    "            self.courses[c.name] = c\n",
    "            \n",
    "    @property\n",
    "    def metadata(self):\n",
    "        return data"
   ]
  },
  {
   "cell_type": "code",
   "execution_count": 13,
   "metadata": {
    "collapsed": false
   },
   "outputs": [],
   "source": [
    "class Schedule(object):\n",
    "    def __init__(self, *periods):\n",
    "        self.periods = {}\n",
    "        for i, p in enumerate(periods):\n",
    "            self.periods[i] = p\n",
    "            \n",
    "    def print(self):\n",
    "        metadata = {}\n",
    "        for p in periods:\n",
    "            pass"
   ]
  },
  {
   "cell_type": "code",
   "execution_count": 15,
   "metadata": {
    "collapsed": false
   },
   "outputs": [],
   "source": [
    "subjects = [\"Math\", \"English\", \"History\", \"PE\"]\n",
    "n_periods = 5\n",
    "periods = []\n",
    "for p in range(n_periods):\n",
    "    courses = []\n",
    "    for s in subjects:\n",
    "        courses.append(Course(s + \"-\" + str(p), s))\n",
    "    periods.append(Period(*courses))\n",
    "timetable = Schedule(*periods)"
   ]
  },
  {
   "cell_type": "code",
   "execution_count": 16,
   "metadata": {
    "collapsed": false
   },
   "outputs": [
    {
     "data": {
      "text/plain": [
       "{'English-1': <__main__.Course at 0x10966cc18>,\n",
       " 'History-1': <__main__.Course at 0x10966cc50>,\n",
       " 'Math-1': <__main__.Course at 0x10966cbe0>,\n",
       " 'PE-1': <__main__.Course at 0x10966ccc0>}"
      ]
     },
     "execution_count": 16,
     "metadata": {},
     "output_type": "execute_result"
    }
   ],
   "source": [
    "timetable.periods[1].courses"
   ]
  },
  {
   "cell_type": "code",
   "execution_count": 56,
   "metadata": {
    "collapsed": true
   },
   "outputs": [],
   "source": [
    "import names\n",
    "from random import shuffle\n",
    "\n",
    "def generate_students(n_students):\n",
    "    \"\"\"\"\"\"\n",
    "    student_list = []\n",
    "    for n in range(n_students):\n",
    "        student_list.append(names.get_full_name())\n",
    "    return student_list\n",
    "\n",
    "def generate_required_schedules(required, students):\n",
    "    \"\"\"Map students to their required courses\"\"\"\n",
    "    student_set = {}\n",
    "    for s in students:\n",
    "        student_set[s] = required[:]\n",
    "    return student_set\n",
    "\n",
    "def add_electives(electives, course_size, student_set):\n",
    "    \"\"\" Distribute electives\"\"\"\n",
    "    # Create a master list of accessible elective course positions\n",
    "    class_list = []\n",
    "    for e in electives:\n",
    "        class_list += [e for i in range(course_size)]\n",
    "    \n",
    "    shuffle(class_list)\n",
    "\n",
    "    for i, student_info in enumerate(student_set.items()):\n",
    "        student_info[1].append(class_list[i])\n",
    "        \n",
    "    return student_set    "
   ]
  },
  {
   "cell_type": "code",
   "execution_count": 57,
   "metadata": {
    "collapsed": false
   },
   "outputs": [],
   "source": [
    "class_size = 10\n",
    "periods = 5\n",
    "\n",
    "subjects = [\"Math\", \"English\", \"History\", \"PE\"]\n",
    "students = generate_students(10)\n",
    "student_set = generate_required_schedules(subjects, students)\n",
    "student_set = add_electives([\"Choir\", \"Band\", \"Woodshop\"], 10, student_set)"
   ]
  },
  {
   "cell_type": "code",
   "execution_count": 58,
   "metadata": {
    "collapsed": false
   },
   "outputs": [
    {
     "data": {
      "text/plain": [
       "{'Clifford Crafton': ['Math', 'English', 'History', 'PE', 'Band'],\n",
       " 'Edward Becker': ['Math', 'English', 'History', 'PE', 'Woodshop'],\n",
       " 'Fredrick Heath': ['Math', 'English', 'History', 'PE', 'Choir'],\n",
       " 'George Weathers': ['Math', 'English', 'History', 'PE', 'Choir'],\n",
       " 'Hannah Britt': ['Math', 'English', 'History', 'PE', 'Choir'],\n",
       " 'Leonard Drake': ['Math', 'English', 'History', 'PE', 'Woodshop'],\n",
       " 'Michael Hogan': ['Math', 'English', 'History', 'PE', 'Woodshop'],\n",
       " 'Nova Webber': ['Math', 'English', 'History', 'PE', 'Choir'],\n",
       " 'Ruth Collins': ['Math', 'English', 'History', 'PE', 'Band'],\n",
       " 'William Sampere': ['Math', 'English', 'History', 'PE', 'Band']}"
      ]
     },
     "execution_count": 58,
     "metadata": {},
     "output_type": "execute_result"
    }
   ],
   "source": [
    "student_set"
   ]
  },
  {
   "cell_type": "code",
   "execution_count": null,
   "metadata": {
    "collapsed": true
   },
   "outputs": [],
   "source": []
  }
 ],
 "metadata": {
  "kernelspec": {
   "display_name": "Python 3 (py3)",
   "language": "python",
   "name": "py3"
  },
  "language_info": {
   "codemirror_mode": {
    "name": "ipython",
    "version": 3
   },
   "file_extension": ".py",
   "mimetype": "text/x-python",
   "name": "python",
   "nbconvert_exporter": "python",
   "pygments_lexer": "ipython3",
   "version": "3.5.0"
  }
 },
 "nbformat": 4,
 "nbformat_minor": 1
}
